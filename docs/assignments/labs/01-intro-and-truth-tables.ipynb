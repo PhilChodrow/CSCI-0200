{
  "cells": [
    {
      "cell_type": "markdown",
      "metadata": {
        "id": "view-in-github",
        "colab_type": "text"
      },
      "source": [
        "<a href=\"https://colab.research.google.com/github/PhilChodrow/CSCI-0200/blob/main/assignments/labs/01-intro-and-truth-tables.ipynb\" target=\"_parent\"><img src=\"https://colab.research.google.com/assets/colab-badge.svg\" alt=\"Open In Colab\"/></a>"
      ]
    },
    {
      "cell_type": "markdown",
      "metadata": {
        "id": "qDPzjbS9OYW_"
      },
      "source": [
        "# Lab 1: Mathematical Writing and Truth Tables\n",
        "\n",
        "- [Your name]\n",
        "- [The name of one of your group members]\n",
        "- [The name of your other group member]"
      ]
    },
    {
      "cell_type": "markdown",
      "metadata": {
        "id": "bHDvOwWKOYXB"
      },
      "source": [
        "**Learning Objectives**:\n",
        "\n",
        "In this lab, you'll practice writing mathematical formulas using $\\LaTeX$ syntax. You'll also translate back and forth between logical mathematical expressions and Python code.\n",
        "\n",
        "*Note: This lab is different! During lab time, I will usually expect you **not** to work on your laptops, and instead work on whiteboards. Today, because typing mathematics is part of the learning goal, I want to make sure you have some time to practice that in class.*"
      ]
    },
    {
      "cell_type": "markdown",
      "metadata": {
        "id": "ALVdEW9QOYXB"
      },
      "source": [
        "# Part A: Writing Markdown\n",
        "\n",
        "Your lab notebook is in Google Colab, which runs interactive Jupyter notebooks. In these notebooks you can write prose, mathematics, and code. First, let's focus on writing prose and mathematics.\n",
        "\n",
        "Writing in Google Colab is powered by Markdown. Markdown is a lightweight markup language for creating static text. Markdown allows you to write **bold** or *italic* text,\n",
        "\n",
        "- text\n",
        "- in\n",
        "- unnumbered\n",
        "- lists,\n",
        "\n",
        "1. or\n",
        "2. numbered\n",
        "3. lists,\n",
        "\n",
        "and even\n",
        "\n",
        "### Headers.\n",
        "\n",
        "Here is a [cheatsheet](https://github.com/adam-p/markdown-here/wiki/Markdown-Cheatsheet) for common Markdown syntax."
      ]
    },
    {
      "cell_type": "markdown",
      "metadata": {
        "id": "wOGQ7iP2OYXC"
      },
      "source": [
        "## Exercise 1\n",
        "\n",
        "A *group norm* is a shared, mutually-agreed upon expectation to which all group members will be held. In this part of the activity, you'll agree on several group norms and write them using Markdown formatting.\n",
        "\n",
        "First, you're going to copy our core group norms. Make a new Markdown cell directly below this one. In that cell, use Markdown to replicate the following block of text\n",
        "\n",
        "![](https://github.com/PhilChodrow/CSCI-0200/blob/main/assets/img/pics/norms.png?raw=1)\n",
        "\n",
        "[Make a new Markdown cell right below this note!]"
      ]
    },
    {
      "cell_type": "markdown",
      "metadata": {
        "id": "CVo6_kRROYXC"
      },
      "source": [
        "## Exercise 2\n",
        "\n",
        "Now, take 5 minutes to brainstorm **at least 2 new group norms**. Add them to your Markdown list above. You don't need to copy your list down to this part."
      ]
    },
    {
      "cell_type": "markdown",
      "metadata": {
        "id": "MJV6Y6xcOYXC"
      },
      "source": [
        "# Part B: Writing Math\n",
        "\n",
        "You can write mathematics in Google Colab's Markdown engine by enclosing special commands inside `$` dollar signs `$`. For example, the command\n",
        "\n",
        "`$ p \\lor q $`\n",
        "\n",
        "entered into a Markdown cell will render in Colab as\n",
        "\n",
        "$p \\lor q$\n",
        "\n",
        "Here, the string `\\lor` (\"**l**ogical **or**\") is a special string that, when rendered, gives the symbol $\\lor$ for the logical `or` operation that we introduced.\n",
        "\n",
        "*The math notation used by Colab is very similar to the widely used $\\LaTeX$ notation for writing mathematical and scientific documents. Most of your CS and math professors write their scientific papers using the $\\LaTeX$ markup language. In Colab, the mathematical typesetting is handled by an online utility called [MathJax](https://www.mathjax.org/). In case you have used $\\LaTeX$ before, you'll find that almost all of the symbol commands are the same.*\n",
        "\n",
        "## Exercise 3\n",
        "\n",
        "Consider the sentence \"Either it will not rain or it will snow.\"\n",
        "\n",
        "- Let $p$ be the proposition that it will rain.\n",
        "- Let $q$ be the proposition that it will snow.\n",
        "\n",
        "In the markdown cell below, use math commands to write this sentence in logical symbols. You may wish to use the symbols `\\lor`, `\\land`, and `\\lnot`.  "
      ]
    },
    {
      "cell_type": "markdown",
      "metadata": {
        "id": "-P6e5FUaOYXC"
      },
      "source": [
        "[*Your solution here!*]"
      ]
    },
    {
      "cell_type": "markdown",
      "metadata": {
        "id": "f1MJ6TUrOYXD"
      },
      "source": [
        "# Part C: Truth Tables\n",
        "\n",
        "## Exercise 4\n",
        "\n",
        "\n",
        "Make truth tables for the following two expressions:\n",
        "\n",
        "1. $\\lnot (p \\land q)$\n",
        "2. $\\lnot p \\lor \\lnot q$\n",
        "\n",
        "It's ok to write your truth tables \"casually\" using Markdown, but you can also structure them as *tables* using some more advanced $\\LaTeX$ syntax. Double click into this markdown cell to see how I created the beginnings of a truth table:\n",
        "\n",
        "$$\n",
        "\\begin{array}{c|c|c}\n",
        "p & q & p \\lor q \\\\\n",
        "\\hline\n",
        "T & T & ? \\\\\n",
        "T & F & ? \\\\\n",
        "\\end{array}\n",
        "$$"
      ]
    },
    {
      "cell_type": "markdown",
      "metadata": {
        "id": "b5ES7MIwOYXD"
      },
      "source": [
        "[*your truth tables here!*]"
      ]
    },
    {
      "cell_type": "markdown",
      "metadata": {
        "id": "0ZhFouVhOYXD"
      },
      "source": [
        "# Part D: From Logic to Python\n",
        "\n",
        "Here is a Python function that, given two Boolean arguments $p$ and $q$, returns $p \\land q$:"
      ]
    },
    {
      "cell_type": "code",
      "execution_count": null,
      "metadata": {
        "id": "W6-m-S4YOYXD"
      },
      "outputs": [],
      "source": [
        "def land(p, q):\n",
        "    return p and q"
      ]
    },
    {
      "cell_type": "markdown",
      "metadata": {
        "id": "StIbA_KQOYXE"
      },
      "source": [
        "Here's a sample function that computes a truth table for a user-supplied logical function `f`:"
      ]
    },
    {
      "cell_type": "code",
      "execution_count": null,
      "metadata": {
        "id": "zACbrTyTOYXE"
      },
      "outputs": [],
      "source": [
        "from itertools import product\n",
        "def truth_table(fun):\n",
        "    print(\"p   q   f\")\n",
        "    print(\"---------\")\n",
        "    for p, q in product([True, False], [True, False]):\n",
        "        print(\"T\" if p else \"F\", end = \" | \")\n",
        "        print(\"T\" if q else \"F\", end = \" | \")\n",
        "        print(\"T\" if fun(p, q) else \"F\")"
      ]
    },
    {
      "cell_type": "markdown",
      "metadata": {
        "id": "aB8F_WRZOYXE"
      },
      "source": [
        "When used on the example `land` function for the logical and $\\land$ operation, we obtain the following output:"
      ]
    },
    {
      "cell_type": "code",
      "execution_count": null,
      "metadata": {
        "id": "W3cS4L0lOYXE",
        "outputId": "1827cb42-6835-4c98-bcfb-95eeb92a4813"
      },
      "outputs": [
        {
          "name": "stdout",
          "output_type": "stream",
          "text": [
            "p   q   f\n",
            "---------\n",
            "T | T | T\n",
            "T | F | F\n",
            "F | T | F\n",
            "F | F | F\n"
          ]
        }
      ],
      "source": [
        "truth_table(land)"
      ]
    },
    {
      "cell_type": "markdown",
      "metadata": {
        "id": "ie-UOFDHOYXF"
      },
      "source": [
        "## Exercise 5\n",
        "\n",
        "Write Python functions which implement the following logical operations. For each one, use the `truth_table` function above to display the truth table of the logical expression:\n",
        "\n",
        "1. $\\lnot p \\lor q$\n",
        "2. $p \\lor (q \\land \\lnot p) \\lor \\lnot p$\n",
        "3. $\\lnot p \\land q$\n",
        "4. $\\lnot (p \\land \\lnot q)$\n",
        "\n",
        "Two logical expressions are *logically equivalent* if they have exactly the same truth table. Which of these expressions are logically equivalent to which other expressions?\n",
        "\n",
        "*Note*: You will want to use Python constructions like:\n",
        "\n",
        "- `p and q`\n",
        "- `not p`\n",
        "- `p or q`"
      ]
    },
    {
      "cell_type": "code",
      "execution_count": null,
      "metadata": {
        "id": "ArKyKRmeOYXF"
      },
      "outputs": [],
      "source": [
        "# Exercise 5.1: implement your function and call truth_table to display"
      ]
    },
    {
      "cell_type": "code",
      "execution_count": null,
      "metadata": {
        "id": "pGuhC9LROYXF"
      },
      "outputs": [],
      "source": [
        "# Exercise 5.2: implement your function and call truth_table to display"
      ]
    },
    {
      "cell_type": "code",
      "execution_count": null,
      "metadata": {
        "id": "eHyFinmCOYXF"
      },
      "outputs": [],
      "source": [
        "# Exercise 5.3: implement your function and call truth_table to display"
      ]
    },
    {
      "cell_type": "code",
      "execution_count": null,
      "metadata": {
        "id": "mWa7Qga_OYXF"
      },
      "outputs": [],
      "source": [
        "# Exercise 5.4: implement your function and call truth_table to display"
      ]
    },
    {
      "cell_type": "markdown",
      "metadata": {
        "id": "uDqd4z1FOYXG"
      },
      "source": [
        "Exercise 5.5: which of these expressions are logically equivalent to which other expressions?\n",
        "\n",
        "[*your response here*]"
      ]
    },
    {
      "cell_type": "markdown",
      "metadata": {
        "id": "u2CP0tCQOYXG"
      },
      "source": [
        "## Exercise 6\n",
        "\n",
        "Here are two Python functions that implement a logical operation with three arguments. For each one, write down the logical operation performed, using the symbols $\\lnot$, $\\lor$, and $\\land$. Then, answer the following questions:\n",
        "\n",
        "1. Which function do you find easier to read as code, and why?\n",
        "2. Which function do you find easier to transcribe into logical symbols, and why?\n",
        "\n",
        "You don't have to construct truth tables for these functions, although you're welcome to."
      ]
    },
    {
      "cell_type": "code",
      "execution_count": null,
      "metadata": {
        "id": "sxPa_lBWOYXG"
      },
      "outputs": [],
      "source": [
        "def f_1(p, q, r):\n",
        "    a = p and q\n",
        "    b = r or q\n",
        "    c = not (a or b)\n",
        "    return c\n",
        "\n",
        "def f_2(p, q, r):\n",
        "    return (p and q) or ((r or p) and (r or q))"
      ]
    },
    {
      "cell_type": "markdown",
      "metadata": {
        "id": "Ow9rR4WfOYXG"
      },
      "source": [
        "A logical expression describing `f_1` is:\n",
        "\n",
        "[*your logical expression here*]\n",
        "\n",
        "A logical expression describing `f_2` is:\n",
        "\n",
        "[*your logical expression here*]\n",
        "\n",
        "\n",
        "Which function do you find easier to read as code, and why?\n",
        "\n",
        "[*your response here*]\n",
        "\n",
        "\n",
        "Which function do you find easier to transcribe into logical symbols, and why?\n",
        "\n",
        "[*your response here*]\n",
        "\n"
      ]
    },
    {
      "cell_type": "markdown",
      "metadata": {
        "id": "8rTGJRBxOYXG"
      },
      "source": [
        "# Part E: Reflection\n",
        "\n",
        "Your friend (sadly not in the class) asks you what you did in your first CSCI 0200 lab. Write a paragraph for your friend in which you describe what you did. Please include responses to the following:   \n",
        "\n",
        "1. Big picture, how would you describe what this lab was about?\n",
        "2. What are three skills you learned or practiced in this lab?\n",
        "3. What is a way in which your group supported your learning during this lab?\n",
        "4. What's something you found interesting, stimulating, or fun about this lab?\n",
        "5. What's something you found challenging, disappointing, or frustrating about this lab?"
      ]
    },
    {
      "cell_type": "markdown",
      "metadata": {
        "id": "lGgp5MKEOYXG"
      },
      "source": [
        "# Part F: Turn It In!\n",
        "\n",
        "To submit this lab, you need to turn it into a PDF. To do that:\n",
        "\n",
        "1. Go to the very first Markdown cell of this notebook and fill in the names of yourself and your group members.\n",
        "2. Make sure that all your Markdown cells have rendered (they should look like nice, sans serif text rather than `monotype` raw text).\n",
        "3. Choose File --> Print and print/save as a PDF. Exactly how to do this might depend on your operating system or browser.\n",
        "4. Finally, submit the PDF file on Canvas.  "
      ]
    }
  ],
  "metadata": {
    "kernelspec": {
      "display_name": "teaching",
      "language": "python",
      "name": "python3"
    },
    "language_info": {
      "codemirror_mode": {
        "name": "ipython",
        "version": 3
      },
      "file_extension": ".py",
      "mimetype": "text/x-python",
      "name": "python",
      "nbconvert_exporter": "python",
      "pygments_lexer": "ipython3",
      "version": "3.8.13"
    },
    "orig_nbformat": 4,
    "colab": {
      "provenance": [],
      "include_colab_link": true
    }
  },
  "nbformat": 4,
  "nbformat_minor": 0
}