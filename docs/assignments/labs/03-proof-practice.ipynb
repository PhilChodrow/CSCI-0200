{
 "cells": [
  {
   "cell_type": "markdown",
   "metadata": {},
   "source": [
    "# Lab 3: Proof Practice\n",
    "\n",
    "- [Your name]\n",
    "- [The name of one of your group members]\n",
    "- [The name of your other group member]\n",
    "\n",
    "**Learning Objectives**:\n",
    "\n",
    "- You will practice *assessing which proof technique* to use for a given problem. \n",
    "- You will continue to practice correctly typesetting proofs using the $\\LaTeX$ typesetting system. \n",
    "\n",
    "**Assessment**: \n",
    "\n",
    "Labs are assessed according to [the posted EMRN rubric](https://www.philchodrow.prof/CSCI-0200/pages/lab-assessment.html).\n",
    "\n",
    "# General Instructions\n",
    "\n",
    "During the lab period, **you should not be typing**. You can use your device to look at the lab instructions and for quick checks, but now is not the time for typing. Instead, you should work with your group at your board or on your mini-boards on the specified problems. \n",
    "\n",
    "- Remember your group norms from Lab 1. \n",
    "- Pass the marker often, *at minimum* twice in every Part. \n",
    "- Every group member should take a picture before erasing anything. \n",
    "- For problems that require you to submit an image of a whiteboard, if you are working on those problems after the lab period, it's also acceptable to submit a hand-drawn image on paper or a tablet. "
   ]
  },
  {
   "cell_type": "markdown",
   "metadata": {},
   "source": [
    "## For This Lab \n",
    "\n",
    "This is a lab in which you will practice choosing the correct proof technique for a given problem. By now, we have learned several proof techniques: \n",
    "\n",
    "- Element Method\n",
    "- Direct Proof \n",
    "- Proof by Contrapositive\n",
    "- Proof by Division into Cases \n",
    "- Proof by Contradiction \n",
    "\n",
    "Each of the problems below will ask you to write a proof. **Please begin your proof by stating which proof technique you are using**. Here are some examples of good starts: \n",
    "\n",
    "- **We will prove the claim using the element method**. Let $x \\in A$...\n",
    "- **We will prove the claim by division into cases**. Suppose first that $x$ is negative...\n",
    "- **We will prove the claim by contradiction**. Suppose therefore that \\[thing to be proven\\] is *not* true. Then..."
   ]
  },
  {
   "cell_type": "markdown",
   "metadata": {},
   "source": [
    "## Part A\n",
    "\n",
    "Prove the following statement, using any proof method. There may be multiple good approaches. \n",
    "\n",
    "**Claim**: *$\\sqrt{10}$ is an irrational number.*"
   ]
  },
  {
   "cell_type": "markdown",
   "metadata": {},
   "source": [
    "[*Your proof here, including your declaration of your proof technique.*]"
   ]
  },
  {
   "cell_type": "markdown",
   "metadata": {},
   "source": [
    "## Part A The Sequel\n",
    "\n",
    "*Required for an E, optional for an M* \n",
    "\n",
    "Consider the claim that $\\sqrt{n}$ is an irrational number, where $n$ is some nonnegative integer. Describe the set of integers $n$ for which your proof strategy from Part A would work with only minimal modification. Write this set in set-builder notation. \n",
    "\n",
    "You do not need to rewrite the proof, although this might help you check your answer. \n"
   ]
  },
  {
   "cell_type": "markdown",
   "metadata": {},
   "source": [
    "[*Your response here.*]"
   ]
  },
  {
   "cell_type": "markdown",
   "metadata": {},
   "source": [
    "## Part B \n",
    "\n",
    "Prove the following statement, using any proof method. There may be multiple good approaches. \n",
    "\n",
    "\n",
    "**Claim**: For all $x\\in \\R$, \n",
    "\n",
    "$$\n",
    "|x - 2| \\geq |x| - 2\\;.\n",
    "$$\n",
    "\n",
    "**Note**: *Recall that* \n",
    "\n",
    "$$\n",
    "|x| = \\begin{cases} \n",
    "\\phantom{-}x& &\\quad x \\geq 0 \\\\ \n",
    "-x& &\\quad x < 0\\;.\n",
    "\\end{cases}\n",
    "$$"
   ]
  },
  {
   "cell_type": "markdown",
   "metadata": {},
   "source": [
    "[*Your proof here, including your declaration of your proof technique.*]"
   ]
  },
  {
   "cell_type": "markdown",
   "metadata": {},
   "source": [
    "## Part C\n",
    "\n",
    "Prove the following statement: \n",
    "\n",
    "**Claim**: Let \n",
    "\n",
    "$$\n",
    "\\begin{aligned}\n",
    "A &= \\{ (x, y) \\in \\mathbb{R}\\times \\mathbb{R}\\;:\\; x^2 + y^2 < 1 \\} \\\\ \n",
    "B &= \\{(x, y) \\in \\mathbb{R}\\times \\mathbb{R}\\;:\\;  (|x| \\leq 1) \\land (|y| \\leq 1) \\}\n",
    "\\end{aligned}\n",
    "$$\n",
    "\n",
    "*Note*: mathematically, this says that a circle of radius 1 (the set $A$) can be contained inside a square of side-length 2 (the set $B$). "
   ]
  },
  {
   "cell_type": "markdown",
   "metadata": {},
   "source": [
    "[*Your proof here, including your declaration of your proof technique.*]"
   ]
  },
  {
   "cell_type": "markdown",
   "metadata": {},
   "source": [
    "## Part D\n",
    "\n",
    "Prove the following statement: \n",
    "\n",
    "**Claim**: For any integer $n$, $n$ is even *if and only if* $4 | (n^2 - 4n)$. \n",
    "\n",
    "*Recall*: For integers $a$ and $b$, $a|b$ means that $a$ divides $b$ without remainder. "
   ]
  },
  {
   "cell_type": "markdown",
   "metadata": {},
   "source": [
    "[*Your proof here, including your declaration of your proof technique.*]"
   ]
  },
  {
   "cell_type": "markdown",
   "metadata": {},
   "source": [
    "## Part E \n",
    "\n",
    "**Claim**: For any real numbers $x$ and $y$, if $x < y$, then there exists a real number $x$ such that $x < z < y$. "
   ]
  },
  {
   "cell_type": "markdown",
   "metadata": {},
   "source": [
    "[*Your proof here, including your declaration of your proof technique.*]"
   ]
  },
  {
   "cell_type": "markdown",
   "metadata": {},
   "source": [
    "# Part F: Reflection\n",
    "\n",
    "Write a paragraph in response to the following prompt: \n",
    "\n",
    "1. Approximately how long did it take you to complete this lab, **including Friday's in-class lab time**? \n",
    "2. Big picture, how would you describe what this lab was about?\n",
    "3. What are three skills you learned or practiced in this lab?\n",
    "4. What is a way in which your group supported your learning during this lab?\n",
    "5. What's something you found interesting, stimulating, or fun about this lab?\n",
    "6. What's something you found challenging, disappointing, or frustrating about this lab?\n"
   ]
  },
  {
   "cell_type": "markdown",
   "metadata": {},
   "source": [
    "[*Your reflection here*]"
   ]
  }
 ],
 "metadata": {
  "kernelspec": {
   "display_name": "Python 3",
   "language": "python",
   "name": "python3"
  },
  "language_info": {
   "codemirror_mode": {
    "name": "ipython",
    "version": 3
   },
   "file_extension": ".py",
   "mimetype": "text/x-python",
   "name": "python",
   "nbconvert_exporter": "python",
   "pygments_lexer": "ipython3",
   "version": "3.9.13"
  },
  "orig_nbformat": 4
 },
 "nbformat": 4,
 "nbformat_minor": 2
}
